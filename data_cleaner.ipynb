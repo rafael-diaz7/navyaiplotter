{
 "cells": [
  {
   "cell_type": "code",
   "execution_count": 32,
   "id": "344133d5",
   "metadata": {},
   "outputs": [],
   "source": [
    "import pickle\n",
    "import csv"
   ]
  },
  {
   "cell_type": "code",
   "execution_count": 33,
   "id": "efe3f7e6",
   "metadata": {},
   "outputs": [],
   "source": [
    "filepath = \"data/run1_0129\" # example file name (change)\n",
    "with open(filepath, 'rb') as handle:\n",
    "    data = pickle.load(handle)"
   ]
  },
  {
   "cell_type": "code",
   "execution_count": 34,
   "id": "8627c590",
   "metadata": {},
   "outputs": [
    {
     "name": "stdout",
     "output_type": "stream",
     "text": [
      "['Galleon_REFERENCE_SHIP', 'False', '-1', ['0.0', '0.0', '0.0'], '[25.0, -85.0, 0.0]', [[]]]\n"
     ]
    }
   ],
   "source": [
    "print(data.get(1).get(\"Assets\")[0])"
   ]
  },
  {
   "cell_type": "code",
   "execution_count": 35,
   "id": "ea4d6f7c",
   "metadata": {},
   "outputs": [],
   "source": [
    "ship_locations = []\n",
    "enemy_missiles = []\n",
    "friendly_missiles = []\n",
    "for step in data:\n",
    "    step_info = data.get(step)\n",
    "    asset_info = step_info.get(\"Assets\")[1:]\n",
    "    track_info = step_info.get(\"Tracks\")\n",
    "    step_ship = []\n",
    "    for item in asset_info:\n",
    "#         print(item,\"\\n\")\n",
    "        step_ship.extend([item[3][0], item[3][1]])\n",
    "    \n",
    "    step_enemy = []\n",
    "    step_friendly = []\n",
    "    for item in track_info:\n",
    "        if \"ENEMY\" in item[1]:\n",
    "            step_enemy.extend([item[3][0], item[3][1], item [3][2]])\n",
    "        else:\n",
    "            step_friendly.extend([item[3][0], item[3][1], item [3][2]])\n",
    "    ship_locations.append(step_ship)\n",
    "    enemy_missiles.append(step_enemy)\n",
    "    friendly_missiles.append(step_friendly)"
   ]
  },
  {
   "cell_type": "code",
   "execution_count": 36,
   "id": "5b142da9",
   "metadata": {},
   "outputs": [],
   "source": [
    "def write_lists(file_name, info_list):\n",
    "    with open(file_name, \"w\", newline=\"\") as f:\n",
    "        writer = csv.writer(f)\n",
    "        writer.writerows(info_list)"
   ]
  },
  {
   "cell_type": "code",
   "execution_count": 37,
   "id": "1511073c",
   "metadata": {},
   "outputs": [],
   "source": [
    "write_lists(\"data/ship_locations_0129.csv\", ship_locations)\n",
    "write_lists(\"data/enemy_missiles_locations_0129.csv\", enemy_missiles)\n",
    "write_lists(\"data/friendly_missiles_locations_0129.csv\", friendly_missiles)"
   ]
  },
  {
   "cell_type": "code",
   "execution_count": 38,
   "id": "9ae89b08",
   "metadata": {},
   "outputs": [],
   "source": [
    "# ship_info = data.get(2).get(\"Assets\")[1:]\n",
    "# asset_info = []\n",
    "# for i in ship_info:\n",
    "#     ship_id = i[0]\n",
    "#     xyz = i[3]\n",
    "#     x_pos = xyz[0]\n",
    "#     y_pos = xyz[1]\n",
    "#     asset_info.append([ship_id, x_pos, y_pos])"
   ]
  },
  {
   "cell_type": "code",
   "execution_count": 39,
   "id": "959554a7",
   "metadata": {},
   "outputs": [
    {
     "data": {
      "text/plain": [
       "[['HVU_Galleon_0',\n",
       "  'True',\n",
       "  '4',\n",
       "  ['-6646.958282639817', '-3703.7671924017995', '0.0'],\n",
       "  '[24.966676690334545, -85.06593933576823, 0.0]',\n",
       "  [['Cannon_System', 'Ready'], ['Chainshot_System', 'Ready']]],\n",
       " ['Galleon_0',\n",
       "  'False',\n",
       "  '1',\n",
       "  ['-2973.5115866013152', '-5123.394637177627', '0.0'],\n",
       "  '[24.95392129785892, -85.02949485129983, 0.0]',\n",
       "  [['Cannon_System', 'Ready'], ['Chainshot_System', 'Ready']]]]"
      ]
     },
     "execution_count": 39,
     "metadata": {},
     "output_type": "execute_result"
    }
   ],
   "source": [
    "asset_info"
   ]
  },
  {
   "cell_type": "code",
   "execution_count": null,
   "id": "c680d206",
   "metadata": {},
   "outputs": [],
   "source": []
  },
  {
   "cell_type": "markdown",
   "id": "1ae153b4",
   "metadata": {},
   "source": [
    "what structure should the processed log file be like..?\n",
    "\n",
    "xship1, yship1, xshipn, yshipn, xmissile1, ymissle1, xmisslen, ymisslen"
   ]
  }
 ],
 "metadata": {
  "kernelspec": {
   "display_name": "Python 3 (ipykernel)",
   "language": "python",
   "name": "python3"
  },
  "language_info": {
   "codemirror_mode": {
    "name": "ipython",
    "version": 3
   },
   "file_extension": ".py",
   "mimetype": "text/x-python",
   "name": "python",
   "nbconvert_exporter": "python",
   "pygments_lexer": "ipython3",
   "version": "3.10.9"
  }
 },
 "nbformat": 4,
 "nbformat_minor": 5
}
